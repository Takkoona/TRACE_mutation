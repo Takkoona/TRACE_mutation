{
 "cells": [
  {
   "cell_type": "code",
   "execution_count": null,
   "metadata": {},
   "outputs": [],
   "source": [
    "from multiprocessing import Pool, cpu_count\n",
    "\n",
    "import pandas as pd\n",
    "\n",
    "from pyutils.constants import SRA_SUMMARY_FILE, REF_SEQS\n",
    "from pyutils.upstream_analysis import workflow"
   ]
  },
  {
   "cell_type": "code",
   "execution_count": null,
   "metadata": {},
   "outputs": [],
   "source": [
    "sra_run_table = pd.read_csv('data/SraRunTable.csv')\n",
    "sra_result = pd.read_csv('data/sra_result.csv')"
   ]
  },
  {
   "cell_type": "code",
   "execution_count": null,
   "metadata": {},
   "outputs": [],
   "source": [
    "sra_summary = sra_run_table.merge(\n",
    "    sra_result,\n",
    "    left_on='Experiment',\n",
    "    right_on='Experiment Accession'\n",
    ")\n",
    "sra_summary.to_csv(SRA_SUMMARY_FILE, index=0)"
   ]
  },
  {
   "cell_type": "code",
   "execution_count": null,
   "metadata": {},
   "outputs": [],
   "source": [
    "params = [\n",
    "    (row['Run'], row['Experiment Title'])\n",
    "    for _, row in sra_summary.iterrows()\n",
    "    if row['Experiment Title'] in REF_SEQS\n",
    "]"
   ]
  },
  {
   "cell_type": "code",
   "execution_count": null,
   "metadata": {},
   "outputs": [],
   "source": [
    "with Pool(cpu_count() - 1) as p:\n",
    "    responses = p.starmap(func=workflow, iterable=params)"
   ]
  }
 ],
 "metadata": {
  "kernelspec": {
   "display_name": "TRACE_mutation",
   "language": "python",
   "name": "python3"
  },
  "language_info": {
   "codemirror_mode": {
    "name": "ipython",
    "version": 3
   },
   "file_extension": ".py",
   "mimetype": "text/x-python",
   "name": "python",
   "nbconvert_exporter": "python",
   "pygments_lexer": "ipython3",
   "version": "3.12.1"
  }
 },
 "nbformat": 4,
 "nbformat_minor": 2
}
