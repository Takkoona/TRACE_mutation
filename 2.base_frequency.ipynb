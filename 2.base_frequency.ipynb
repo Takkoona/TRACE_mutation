{
 "cells": [
  {
   "cell_type": "code",
   "execution_count": 1,
   "metadata": {},
   "outputs": [],
   "source": [
    "import os\n",
    "from multiprocessing import Pool, Manager, cpu_count\n",
    "\n",
    "import pandas as pd\n",
    "from Bio import Align\n",
    "\n",
    "from pyutils.constants import (\n",
    "    OUTPUT_DIR,\n",
    "    REF_SEQS,\n",
    "    SRA_SUMMARY_FILE,\n",
    ")\n",
    "from pyutils.downstream_analysis import update_mutation_summary"
   ]
  },
  {
   "cell_type": "code",
   "execution_count": 2,
   "metadata": {},
   "outputs": [],
   "source": [
    "sra_summary = pd.read_csv(SRA_SUMMARY_FILE)"
   ]
  },
  {
   "cell_type": "code",
   "execution_count": 3,
   "metadata": {},
   "outputs": [],
   "source": [
    "for _, row in sra_summary.iterrows():\n",
    "    exp_name = row['Experiment Title']\n",
    "    if exp_name in REF_SEQS:\n",
    "        sra_id = row['Run']\n",
    "        experiment_dir = os.path.join(OUTPUT_DIR, exp_name.replace(' ', '_'))\n",
    "        work_dir = os.path.join(OUTPUT_DIR, experiment_dir, sra_id)\n",
    "        if os.path.exists(work_dir):\n",
    "            mutation_summary_df = None\n",
    "            with Pool(cpu_count() - 1) as p, Manager() as m:\n",
    "                mutation_summary = m.dict()\n",
    "                params = (\n",
    "                    (mutation_summary, alignment)\n",
    "                    for alignment in Align.parse(\n",
    "                        os.path.join(work_dir, f'{sra_id}.sam'),\n",
    "                        'sam'\n",
    "                    )\n",
    "                )\n",
    "                p.starmap(func=update_mutation_summary, iterable=params)\n",
    "                mutation_summary_df = [\n",
    "                    (ref_index, mut, count)\n",
    "                    for (ref_index, mut), count in mutation_summary.items()\n",
    "                ]\n",
    "                mutation_summary_df = pd.DataFrame(mutation_summary_df, columns=('site', 'nucleo', 'freq'))\n",
    "                mutation_summary_df = mutation_summary_df.sort_values('site').reset_index()\n",
    "                mutation_summary_df = mutation_summary_df.pivot(\n",
    "                    index='nucleo',\n",
    "                    columns='site',values='freq'\n",
    "                ).fillna(0)\n",
    "                mutation_summary_df.to_csv(os.path.join(work_dir, f'{sra_id}_base_freq.csv'))\n",
    "            # break"
   ]
  }
 ],
 "metadata": {
  "kernelspec": {
   "display_name": "TRACE_mutation",
   "language": "python",
   "name": "python3"
  },
  "language_info": {
   "codemirror_mode": {
    "name": "ipython",
    "version": 3
   },
   "file_extension": ".py",
   "mimetype": "text/x-python",
   "name": "python",
   "nbconvert_exporter": "python",
   "pygments_lexer": "ipython3",
   "version": "3.12.1"
  }
 },
 "nbformat": 4,
 "nbformat_minor": 2
}
